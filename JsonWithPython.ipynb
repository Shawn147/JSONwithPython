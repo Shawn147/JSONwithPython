{
 "cells": [
  {
   "cell_type": "code",
   "execution_count": 1,
   "metadata": {},
   "outputs": [],
   "source": [
    "import json"
   ]
  },
  {
   "cell_type": "code",
   "execution_count": 2,
   "metadata": {},
   "outputs": [
    {
     "name": "stdout",
     "output_type": "stream",
     "text": [
      "Enter Your Key [or Enter q for close]name\n",
      "Enter Valueshan\n",
      "{'name': 'shan'}\n",
      "Enter Your Key [or Enter q for close]roll\n",
      "Enter Value155\n",
      "{'name': 'shan', 'roll': '155'}\n",
      "Enter Your Key [or Enter q for close]class\n",
      "Enter Valueaxiom, PIAIC\n",
      "{'name': 'shan', 'roll': '155', 'class': 'axiom, PIAIC'}\n",
      "Enter Your Key [or Enter q for close]teacher\n",
      "Enter Valuesir nasir\n",
      "{'name': 'shan', 'roll': '155', 'class': 'axiom, PIAIC', 'teacher': 'sir nasir'}\n",
      "Enter Your Key [or Enter q for close]center\n",
      "Enter ValueSAIMS\n",
      "{'name': 'shan', 'roll': '155', 'class': 'axiom, PIAIC', 'teacher': 'sir nasir', 'center': 'SAIMS'}\n",
      "Enter Your Key [or Enter q for close]q\n"
     ]
    }
   ],
   "source": [
    "\n",
    "user = {\n",
    "    \n",
    "}\n",
    "flag = True\n",
    "while flag:\n",
    "    x = input(\"Enter Your Key [or Enter q for close]\")\n",
    "    if x == \"q\":\n",
    "        flag = False\n",
    "    else:\n",
    "        y = input(\"Enter Value\")\n",
    "        user[x] = y\n",
    "        print(user)\n",
    "    \n",
    "\n",
    "with open(\"class3.json\", \"w\") as newu:\n",
    "     json.dump(user, newu)"
   ]
  },
  {
   "cell_type": "code",
   "execution_count": 4,
   "metadata": {},
   "outputs": [
    {
     "name": "stdout",
     "output_type": "stream",
     "text": [
      "{'name': 'shan', 'roll': '155', 'class': 'axiom, PIAIC', 'teacher': 'sir nasir', 'center': 'SAIMS'}\n"
     ]
    }
   ],
   "source": [
    "with open(\"class3.json\") as lnewu:\n",
    "    z = json.load(lnewu)\n",
    "    print(z)"
   ]
  },
  {
   "cell_type": "code",
   "execution_count": null,
   "metadata": {},
   "outputs": [],
   "source": []
  }
 ],
 "metadata": {
  "kernelspec": {
   "display_name": "Python 3",
   "language": "python",
   "name": "python3"
  },
  "language_info": {
   "codemirror_mode": {
    "name": "ipython",
    "version": 3
   },
   "file_extension": ".py",
   "mimetype": "text/x-python",
   "name": "python",
   "nbconvert_exporter": "python",
   "pygments_lexer": "ipython3",
   "version": "3.7.3"
  }
 },
 "nbformat": 4,
 "nbformat_minor": 2
}
